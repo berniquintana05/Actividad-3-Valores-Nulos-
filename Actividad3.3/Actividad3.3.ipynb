{
 "cells": [
  {
   "cell_type": "markdown",
   "metadata": {},
   "source": [
    "## Actividad 3.3"
   ]
  },
  {
   "cell_type": "markdown",
   "metadata": {},
   "source": [
    "**Bernardo Quintana A01658064**"
   ]
  },
  {
   "cell_type": "code",
   "execution_count": 1,
   "metadata": {},
   "outputs": [],
   "source": [
    "import pandas as pd"
   ]
  },
  {
   "cell_type": "code",
   "execution_count": 4,
   "metadata": {},
   "outputs": [],
   "source": [
    "dataframe = pd.read_excel(\"Londres_Inglaterra.xlsx\")"
   ]
  },
  {
   "cell_type": "code",
   "execution_count": 7,
   "metadata": {},
   "outputs": [],
   "source": [
    "archivo = \"Londres_Inglaterra.xlsx\""
   ]
  },
  {
   "cell_type": "code",
   "execution_count": 8,
   "metadata": {},
   "outputs": [],
   "source": [
    "def cargar_df(archivo):\n",
    "   \n",
    "    extension = archivo.split('.')[-1].lower()\n",
    "\n",
    "    if extension == 'csv':\n",
    "        df = pd.read_csv(archivo)\n",
    "    elif extension == 'xlsx':\n",
    "        df = pd.read_excel(archivo)\n",
    "    elif extension == 'json':\n",
    "        df = pd.read_json(archivo)\n",
    "    elif extension == 'html':\n",
    "        df = pd.read_html(archivo)\n",
    "    else:\n",
    "        print(\"Archivo no compatible, intente de nuevo.\")\n",
    "\n",
    "    df.to_csv(\"df_cargado.csv\", index=False)\n",
    "\n",
    "    return df\n"
   ]
  },
  {
   "cell_type": "code",
   "execution_count": 9,
   "metadata": {},
   "outputs": [],
   "source": [
    "df = cargar_df(archivo)"
   ]
  }
 ],
 "metadata": {
  "kernelspec": {
   "display_name": "Python 3",
   "language": "python",
   "name": "python3"
  },
  "language_info": {
   "codemirror_mode": {
    "name": "ipython",
    "version": 3
   },
   "file_extension": ".py",
   "mimetype": "text/x-python",
   "name": "python",
   "nbconvert_exporter": "python",
   "pygments_lexer": "ipython3",
   "version": "3.13.2"
  }
 },
 "nbformat": 4,
 "nbformat_minor": 2
}
