{
 "cells": [
  {
   "cell_type": "markdown",
   "metadata": {},
   "source": [
    "## Actividad 3.2"
   ]
  },
  {
   "cell_type": "markdown",
   "metadata": {},
   "source": [
    "**Bernardo Quintana A01658064**"
   ]
  },
  {
   "cell_type": "code",
   "execution_count": 1,
   "metadata": {},
   "outputs": [],
   "source": [
    "import pandas as pd \n",
    "import numpy as np \n",
    "import matplotlib.pyplot as plt "
   ]
  },
  {
   "cell_type": "code",
   "execution_count": 2,
   "metadata": {},
   "outputs": [],
   "source": [
    "df = pd.read_excel(\"Londres_Inglaterra.xlsx\")"
   ]
  },
  {
   "cell_type": "code",
   "execution_count": 6,
   "metadata": {},
   "outputs": [],
   "source": [
    "def reemplazar_con_mediana(df):\n",
    "    cuantitativas = df.select_dtypes(include=[\"float64\", \"int64\", \"float\", \"int\"])\n",
    "    cuantitativas_mediana = cuantitativas.fillna(round(cuantitativas.median(), 1))\n",
    "    cuantitativas_mediana.to_csv(\"cuantitativas_mediana.csv\", index=False)\n",
    "    return cuantitativas_mediana"
   ]
  },
  {
   "cell_type": "code",
   "execution_count": 7,
   "metadata": {},
   "outputs": [],
   "source": [
    "def reemplazar_con_ffill(df):\n",
    "    cualitativas = df.select_dtypes(include=[\"object\", \"datetime\", \"category\"])\n",
    "    cualitativas_ffill = cualitativas.fillna(method=\"ffill\")\n",
    "    cualitativas_ffill.to_csv(\"cualitativas_ffill.csv\", index=False)\n",
    "    return cualitativas_ffill"
   ]
  },
  {
   "cell_type": "code",
   "execution_count": 8,
   "metadata": {},
   "outputs": [],
   "source": [
    "def reemplazar_con_bfill(df):\n",
    "    cualitativas = df.select_dtypes(include=[\"object\", \"datetime\", \"category\"])\n",
    "    cualitativas_bfill = cualitativas.fillna(method=\"bfill\")\n",
    "    cualitativas_bfill.to_csv(\"cualitativas_bfill.csv\", index=False)\n",
    "    return cualitativas_bfill"
   ]
  },
  {
   "cell_type": "code",
   "execution_count": 9,
   "metadata": {},
   "outputs": [],
   "source": [
    "def reemplazar_con_string(df):\n",
    "    cualitativas = df.select_dtypes(include=[\"object\", \"datetime\", \"category\"])\n",
    "    cualitativas_string = cualitativas.fillna(\"valor faltante\")\n",
    "    cualitativas_string.to_csv(\"cualitativas_string.csv\", index=False)\n",
    "    return cualitativas_string"
   ]
  },
  {
   "cell_type": "code",
   "execution_count": 10,
   "metadata": {},
   "outputs": [],
   "source": [
    "def reemplazar_con_constante(df):\n",
    "    cuantitativas = df.select_dtypes(include=[\"float64\", \"int64\", \"float\", \"int\"])\n",
    "    cuantitativas_constante = cuantitativas.fillna(0)\n",
    "    cuantitativas_constante.to_csv(\"cuantitativas_constante.csv\", index=False)\n",
    "    return cuantitativas_constante"
   ]
  },
  {
   "cell_type": "markdown",
   "metadata": {},
   "source": [
    "## Función general"
   ]
  },
  {
   "cell_type": "code",
   "execution_count": 11,
   "metadata": {},
   "outputs": [],
   "source": [
    "def ciudad_sin_nulos(df):\n",
    "    mediana = reemplazar_con_mediana(df)\n",
    "    ffill = reemplazar_con_ffill(df)\n",
    "    bfill = reemplazar_con_bfill(df)\n",
    "    string = reemplazar_con_string(df)\n",
    "    constante = reemplazar_con_constante(df)"
   ]
  },
  {
   "cell_type": "code",
   "execution_count": 12,
   "metadata": {},
   "outputs": [
    {
     "name": "stderr",
     "output_type": "stream",
     "text": [
      "/var/folders/94/xjf3jcy17bl_0r1wdp5btmhr0000gn/T/ipykernel_82063/205836184.py:3: FutureWarning: DataFrame.fillna with 'method' is deprecated and will raise in a future version. Use obj.ffill() or obj.bfill() instead.\n",
      "  cualitativas_ffill = cualitativas.fillna(method=\"ffill\")\n",
      "/var/folders/94/xjf3jcy17bl_0r1wdp5btmhr0000gn/T/ipykernel_82063/3553108198.py:3: FutureWarning: DataFrame.fillna with 'method' is deprecated and will raise in a future version. Use obj.ffill() or obj.bfill() instead.\n",
      "  cualitativas_bfill = cualitativas.fillna(method=\"bfill\")\n"
     ]
    }
   ],
   "source": [
    "ciudad_sin_nulos(df)"
   ]
  }
 ],
 "metadata": {
  "kernelspec": {
   "display_name": "Python 3",
   "language": "python",
   "name": "python3"
  },
  "language_info": {
   "codemirror_mode": {
    "name": "ipython",
    "version": 3
   },
   "file_extension": ".py",
   "mimetype": "text/x-python",
   "name": "python",
   "nbconvert_exporter": "python",
   "pygments_lexer": "ipython3",
   "version": "3.13.2"
  }
 },
 "nbformat": 4,
 "nbformat_minor": 2
}
